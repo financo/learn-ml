{
 "cells": [
  {
   "cell_type": "markdown",
   "metadata": {},
   "source": [
    "## 07 数据归一化处理"
   ]
  },
  {
   "cell_type": "code",
   "execution_count": 1,
   "metadata": {},
   "outputs": [],
   "source": [
    "import numpy as np\n",
    "import matplotlib.pyplot as plt"
   ]
  },
  {
   "cell_type": "markdown",
   "metadata": {},
   "source": [
    "### 最值归一化 Normalization"
   ]
  },
  {
   "cell_type": "code",
   "execution_count": 2,
   "metadata": {},
   "outputs": [],
   "source": [
    "x = np.random.randint(0, 100, 100) "
   ]
  },
  {
   "cell_type": "code",
   "execution_count": 3,
   "metadata": {},
   "outputs": [
    {
     "data": {
      "text/plain": [
       "array([57, 65, 60, 70, 48, 12, 95, 90, 45, 92, 34, 80, 96,  5, 43, 77, 93,\n",
       "       81, 79, 39, 91, 24, 32, 58, 29, 74, 55,  9, 74, 55, 41, 64, 43,  6,\n",
       "       10,  0,  4, 60, 47, 83, 37, 37, 77, 90, 75, 44, 78, 25, 29, 32, 44,\n",
       "       84, 82, 56, 36, 38,  6,  3,  4, 36, 34, 36, 26,  5, 34, 87, 84, 15,\n",
       "       70, 76, 82, 16, 15, 80, 93, 66, 65, 38, 51, 95, 85, 99, 38, 85, 73,\n",
       "       80, 39, 70, 54, 98, 40, 15, 97, 75, 35, 36, 54, 74, 95, 37])"
      ]
     },
     "execution_count": 3,
     "metadata": {},
     "output_type": "execute_result"
    }
   ],
   "source": [
    "x"
   ]
  },
  {
   "cell_type": "code",
   "execution_count": 4,
   "metadata": {},
   "outputs": [
    {
     "data": {
      "text/plain": [
       "array([0.57575758, 0.65656566, 0.60606061, 0.70707071, 0.48484848,\n",
       "       0.12121212, 0.95959596, 0.90909091, 0.45454545, 0.92929293,\n",
       "       0.34343434, 0.80808081, 0.96969697, 0.05050505, 0.43434343,\n",
       "       0.77777778, 0.93939394, 0.81818182, 0.7979798 , 0.39393939,\n",
       "       0.91919192, 0.24242424, 0.32323232, 0.58585859, 0.29292929,\n",
       "       0.74747475, 0.55555556, 0.09090909, 0.74747475, 0.55555556,\n",
       "       0.41414141, 0.64646465, 0.43434343, 0.06060606, 0.1010101 ,\n",
       "       0.        , 0.04040404, 0.60606061, 0.47474747, 0.83838384,\n",
       "       0.37373737, 0.37373737, 0.77777778, 0.90909091, 0.75757576,\n",
       "       0.44444444, 0.78787879, 0.25252525, 0.29292929, 0.32323232,\n",
       "       0.44444444, 0.84848485, 0.82828283, 0.56565657, 0.36363636,\n",
       "       0.38383838, 0.06060606, 0.03030303, 0.04040404, 0.36363636,\n",
       "       0.34343434, 0.36363636, 0.26262626, 0.05050505, 0.34343434,\n",
       "       0.87878788, 0.84848485, 0.15151515, 0.70707071, 0.76767677,\n",
       "       0.82828283, 0.16161616, 0.15151515, 0.80808081, 0.93939394,\n",
       "       0.66666667, 0.65656566, 0.38383838, 0.51515152, 0.95959596,\n",
       "       0.85858586, 1.        , 0.38383838, 0.85858586, 0.73737374,\n",
       "       0.80808081, 0.39393939, 0.70707071, 0.54545455, 0.98989899,\n",
       "       0.4040404 , 0.15151515, 0.97979798, 0.75757576, 0.35353535,\n",
       "       0.36363636, 0.54545455, 0.74747475, 0.95959596, 0.37373737])"
      ]
     },
     "execution_count": 4,
     "metadata": {},
     "output_type": "execute_result"
    }
   ],
   "source": [
    "(x - np.min(x)) / (np.max(x) - np.min(x))"
   ]
  },
  {
   "cell_type": "code",
   "execution_count": 17,
   "metadata": {},
   "outputs": [
    {
     "data": {
      "text/plain": [
       "(50, 2)"
      ]
     },
     "execution_count": 17,
     "metadata": {},
     "output_type": "execute_result"
    }
   ],
   "source": [
    "X = np.random.randint(0, 100, (50, 2))\n",
    "X.shape"
   ]
  },
  {
   "cell_type": "code",
   "execution_count": 19,
   "metadata": {},
   "outputs": [],
   "source": [
    "X = np.array(X, dtype=float)"
   ]
  },
  {
   "cell_type": "code",
   "execution_count": 20,
   "metadata": {},
   "outputs": [
    {
     "data": {
      "text/plain": [
       "array([[91., 91.],\n",
       "       [20., 57.],\n",
       "       [ 1., 35.],\n",
       "       [87., 68.],\n",
       "       [57., 38.],\n",
       "       [16., 45.],\n",
       "       [34., 89.],\n",
       "       [49., 86.],\n",
       "       [ 6.,  1.],\n",
       "       [72., 71.]])"
      ]
     },
     "execution_count": 20,
     "metadata": {},
     "output_type": "execute_result"
    }
   ],
   "source": [
    "X[:10,:]"
   ]
  },
  {
   "cell_type": "code",
   "execution_count": 21,
   "metadata": {},
   "outputs": [],
   "source": [
    "X[:,0] = (X[:,0] - np.min(X[:,0])) / (np.max(X[:,0]) - np.min(X[:,0]))\n",
    "X[:,1] = (X[:,1] - np.min(X[:,1])) / (np.max(X[:,1]) - np.min(X[:,1]))"
   ]
  },
  {
   "cell_type": "code",
   "execution_count": 22,
   "metadata": {},
   "outputs": [
    {
     "data": {
      "text/plain": [
       "array([[0.91836735, 0.94736842],\n",
       "       [0.19387755, 0.58947368],\n",
       "       [0.        , 0.35789474],\n",
       "       [0.87755102, 0.70526316],\n",
       "       [0.57142857, 0.38947368],\n",
       "       [0.15306122, 0.46315789],\n",
       "       [0.33673469, 0.92631579],\n",
       "       [0.48979592, 0.89473684],\n",
       "       [0.05102041, 0.        ],\n",
       "       [0.7244898 , 0.73684211]])"
      ]
     },
     "execution_count": 22,
     "metadata": {},
     "output_type": "execute_result"
    }
   ],
   "source": [
    "X[:10,:]"
   ]
  },
  {
   "cell_type": "code",
   "execution_count": 23,
   "metadata": {},
   "outputs": [
    {
     "data": {
      "image/png": "[encoded data removed]",
      "text/plain": [
       "<Figure size 432x288 with 1 Axes>"
      ]
     },
     "metadata": {},
     "output_type": "display_data"
    }
   ],
   "source": [
    "plt.scatter(X[:,0], X[:,1])\n",
    "plt.show()"
   ]
  },
  {
   "cell_type": "code",
   "execution_count": 24,
   "metadata": {},
   "outputs": [
    {
     "data": {
      "text/plain": [
       "0.4787755102040816"
      ]
     },
     "execution_count": 24,
     "metadata": {},
     "output_type": "execute_result"
    }
   ],
   "source": [
    "np.mean(X[:,0])"
   ]
  },
  {
   "cell_type": "code",
   "execution_count": 25,
   "metadata": {},
   "outputs": [
    {
     "data": {
      "text/plain": [
       "0.3025357225027386"
      ]
     },
     "execution_count": 25,
     "metadata": {},
     "output_type": "execute_result"
    }
   ],
   "source": [
    "np.std(X[:,0])"
   ]
  },
  {
   "cell_type": "code",
   "execution_count": 26,
   "metadata": {},
   "outputs": [
    {
     "data": {
      "text/plain": [
       "0.452"
      ]
     },
     "execution_count": 26,
     "metadata": {},
     "output_type": "execute_result"
    }
   ],
   "source": [
    "np.mean(X[:,1])"
   ]
  },
  {
   "cell_type": "code",
   "execution_count": 27,
   "metadata": {},
   "outputs": [
    {
     "data": {
      "text/plain": [
       "0.2882012993025319"
      ]
     },
     "execution_count": 27,
     "metadata": {},
     "output_type": "execute_result"
    }
   ],
   "source": [
    "np.std(X[:,1])"
   ]
  },
  {
   "cell_type": "markdown",
   "metadata": {},
   "source": [
    "### 均值方差归一化 Standardization"
   ]
  },
  {
   "cell_type": "code",
   "execution_count": 28,
   "metadata": {},
   "outputs": [],
   "source": [
    "X2 = np.random.randint(0, 100, (50, 2))"
   ]
  },
  {
   "cell_type": "code",
   "execution_count": 29,
   "metadata": {},
   "outputs": [],
   "source": [
    "X2 = np.array(X2, dtype=float)"
   ]
  },
  {
   "cell_type": "code",
   "execution_count": 30,
   "metadata": {},
   "outputs": [
    {
     "data": {
      "text/plain": [
       "array([[81., 33.],\n",
       "       [86., 87.],\n",
       "       [42.,  4.],\n",
       "       [87., 87.],\n",
       "       [35., 50.],\n",
       "       [47., 34.],\n",
       "       [45., 61.],\n",
       "       [52., 63.],\n",
       "       [84., 47.],\n",
       "       [79., 22.]])"
      ]
     },
     "execution_count": 30,
     "metadata": {},
     "output_type": "execute_result"
    }
   ],
   "source": [
    "X2[:10,:]"
   ]
  },
  {
   "cell_type": "code",
   "execution_count": 31,
   "metadata": {},
   "outputs": [],
   "source": [
    "X2[:,0] = (X2[:,0] - np.mean(X2[:,0])) / np.std(X2[:,0])\n",
    "X2[:,1] = (X2[:,1] - np.mean(X2[:,1])) / np.std(X2[:,1])"
   ]
  },
  {
   "cell_type": "code",
   "execution_count": 32,
   "metadata": {},
   "outputs": [
    {
     "data": {
      "image/png": "[encoded data removed]",
      "text/plain": [
       "<Figure size 432x288 with 1 Axes>"
      ]
     },
     "metadata": {},
     "output_type": "display_data"
    }
   ],
   "source": [
    "plt.scatter(X2[:,0], X2[:,1])\n",
    "plt.show()"
   ]
  },
  {
   "cell_type": "code",
   "execution_count": 33,
   "metadata": {},
   "outputs": [
    {
     "data": {
      "text/plain": [
       "-7.549516567451065e-17"
      ]
     },
     "execution_count": 33,
     "metadata": {},
     "output_type": "execute_result"
    }
   ],
   "source": [
    "np.mean(X2[:,0])"
   ]
  },
  {
   "cell_type": "code",
   "execution_count": 34,
   "metadata": {},
   "outputs": [
    {
     "data": {
      "text/plain": [
       "1.0"
      ]
     },
     "execution_count": 34,
     "metadata": {},
     "output_type": "execute_result"
    }
   ],
   "source": [
    "np.std(X2[:,0])"
   ]
  },
  {
   "cell_type": "code",
   "execution_count": 35,
   "metadata": {},
   "outputs": [
    {
     "data": {
      "text/plain": [
       "-5.773159728050814e-17"
      ]
     },
     "execution_count": 35,
     "metadata": {},
     "output_type": "execute_result"
    }
   ],
   "source": [
    "np.mean(X2[:,1])"
   ]
  },
  {
   "cell_type": "code",
   "execution_count": 36,
   "metadata": {},
   "outputs": [
    {
     "data": {
      "text/plain": [
       "1.0"
      ]
     },
     "execution_count": 36,
     "metadata": {},
     "output_type": "execute_result"
    }
   ],
   "source": [
    "np.std(X2[:,1])"
   ]
  },
  {
   "cell_type": "code",
   "execution_count": null,
   "metadata": {},
   "outputs": [],
   "source": []
  }
 ],
 "metadata": {
  "kernelspec": {
   "display_name": "Python 3",
   "language": "python",
   "name": "python3"
  },
  "language_info": {
   "codemirror_mode": {
    "name": "ipython",
    "version": 3
   },
   "file_extension": ".py",
   "mimetype": "text/x-python",
   "name": "python",
   "nbconvert_exporter": "python",
   "pygments_lexer": "ipython3",
   "version": "3.6.5"
  }
 },
 "nbformat": 4,
 "nbformat_minor": 2
}
